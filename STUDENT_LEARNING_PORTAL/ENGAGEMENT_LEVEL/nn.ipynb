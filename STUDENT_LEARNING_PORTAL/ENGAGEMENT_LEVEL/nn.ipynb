{
 "cells": [
  {
   "cell_type": "code",
   "execution_count": 4,
   "id": "3549d0b0-5cde-43c7-852e-d110e42bb1a8",
   "metadata": {},
   "outputs": [
    {
     "name": "stdout",
     "output_type": "stream",
     "text": [
      "Decision Tree model saved successfully.\n"
     ]
    }
   ],
   "source": [
    "import pandas as pd\n",
    "from sklearn.tree import DecisionTreeClassifier\n",
    "from sklearn.model_selection import train_test_split\n",
    "from sklearn.preprocessing import LabelEncoder\n",
    "import joblib\n",
    "from sklearn.metrics import accuracy_score\n",
    "\n",
    "# Load data from CSV file\n",
    "# Replace 'your_data.csv' with the path to your actual CSV file\n",
    "df=pd.read_csv(r\"C:\\Users\\guna laakshmi\\Downloads\\student_engagement_dataset.csv\")\n",
    "\n",
    "# Encode target labels (Engagement_Level)\n",
    "label_encoder = LabelEncoder()\n",
    "df['Engagement_Level'] = label_encoder.fit_transform(df['Engagement_Level'])\n",
    "\n",
    "# Features and target\n",
    "X = df[['Login_Frequency', 'Time_Spent_Modules', 'Participation_Forums', \n",
    "        'Quiz_Performance_Average', 'Assignment_Submissions']]\n",
    "y = df['Engagement_Level']\n",
    "\n",
    "# Train-test split\n",
    "X_train, X_test, y_train, y_test = train_test_split(X, y, test_size=0.2, random_state=42)\n",
    "\n",
    "# Train the Decision Tree model\n",
    "model = DecisionTreeClassifier(random_state=42)\n",
    "model.fit(X_train, y_train)\n",
    "\n",
    "# Save the trained model\n",
    "joblib.dump(model, 'recommendation_model.pkl')\n",
    "print(\"Decision Tree model saved successfully.\")"
   ]
  },
  {
   "cell_type": "code",
   "execution_count": null,
   "id": "111d52db-1679-4076-9310-7f80796aa512",
   "metadata": {},
   "outputs": [],
   "source": []
  }
 ],
 "metadata": {
  "kernelspec": {
   "display_name": "Python 3 (ipykernel)",
   "language": "python",
   "name": "python3"
  },
  "language_info": {
   "codemirror_mode": {
    "name": "ipython",
    "version": 3
   },
   "file_extension": ".py",
   "mimetype": "text/x-python",
   "name": "python",
   "nbconvert_exporter": "python",
   "pygments_lexer": "ipython3",
   "version": "3.12.7"
  }
 },
 "nbformat": 4,
 "nbformat_minor": 5
}
